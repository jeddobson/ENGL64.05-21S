{
 "cells": [
  {
   "cell_type": "markdown",
   "metadata": {},
   "source": [
    "<center>\n",
    "<h1>Cultural Analytics</h1><br>\n",
    "<h2>ENGL64.05 Spring 2021</h2>\n",
    "</center>\n",
    "\n",
    "----\n",
    "\n",
    "# Lab 4\n",
    "## Using TextBlob and Creating a Sentiment Classifier\n",
    "\n",
    " <center><pre>Created: 05/13/2021</pre></center>"
   ]
  },
  {
   "cell_type": "code",
   "execution_count": 1,
   "metadata": {},
   "outputs": [],
   "source": [
    "from textblob import TextBlob"
   ]
  },
  {
   "cell_type": "markdown",
   "metadata": {},
   "source": [
    "## Experiment with TextBlob's built-in Sentiment Tool"
   ]
  },
  {
   "cell_type": "code",
   "execution_count": 18,
   "metadata": {},
   "outputs": [],
   "source": [
    "# Montfort (pp. 201-204) explains how to use TextBlob's included sentiment analysis tool\n",
    "# In the cell below, use this to evaluate the sentiment and subjectivity of several sample \n",
    "# sections of text."
   ]
  },
  {
   "cell_type": "code",
   "execution_count": null,
   "metadata": {},
   "outputs": [],
   "source": []
  },
  {
   "cell_type": "code",
   "execution_count": null,
   "metadata": {},
   "outputs": [],
   "source": [
    "# Now try to convert the sentiment score from TextBlob into a four-star system for \n",
    "# determining the degree to which you've found a positive section of text.\n",
    "#\n",
    "# HINT: You can print an emoji (!) with cut-and-paste. If you want to display multiple \n",
    "# characters you can use string multiplication: \"hey\" * 10 will print \"hey\" ten times."
   ]
  },
  {
   "cell_type": "code",
   "execution_count": null,
   "metadata": {},
   "outputs": [],
   "source": []
  },
  {
   "cell_type": "markdown",
   "metadata": {},
   "source": [
    "## Building a Classifier"
   ]
  },
  {
   "cell_type": "code",
   "execution_count": 2,
   "metadata": {},
   "outputs": [
    {
     "name": "stdout",
     "output_type": "stream",
     "text": [
      "loaded 2291 book reviews\n"
     ]
    }
   ],
   "source": [
    "# Python's native storage format for saving serialized\n",
    "# data objects is called \"pickle.\" We can \"dump\" and \"load\"\n",
    "# objects from these files. This file contains a set of Goodreads\n",
    "# reviews pulled from the Web.\n",
    "\n",
    "import pickle\n",
    "reviews = pickle.load(open(\"shared/engl64.05/data/book-reviews.pkl\",\"rb\"))\n",
    "print(\"loaded {0} book reviews\".format(len(reviews)))"
   ]
  },
  {
   "cell_type": "code",
   "execution_count": 6,
   "metadata": {},
   "outputs": [],
   "source": [
    "# Preprocessing:\n",
    "# The reviews contain \"newline\" characters, so let's drop those:\n",
    "reviews = [r.replace(\"\\n\",\"\") for r in reviews]\n",
    "\n",
    "# Do you want to make everything lowercase?\n",
    "# reviews = [r.lower() for r in reviews]"
   ]
  },
  {
   "cell_type": "code",
   "execution_count": 16,
   "metadata": {},
   "outputs": [],
   "source": [
    "# Let's split the data into training and testing datasets.\n",
    "# The training set will contain the first 500 reviews\n",
    "# and the testing set will be the remainder\n",
    "training_reviews = reviews[:500]\n",
    "testing_reviews = reviews[500:]"
   ]
  },
  {
   "cell_type": "code",
   "execution_count": 34,
   "metadata": {},
   "outputs": [
    {
     "data": {
      "text/plain": [
       "[(65,\n",
       "  \"The era and the setting of the novel was something I could relate to.  Growing up in the 60's and 70's and knew it was a tumultuous time The book was about the innocence of a neglected young white girl caught up in the racism of the time and specifically the South during the civil rights era.  It was wonderfully told and beautifully written.\"),\n",
       " (178,\n",
       "  'I was required to read this text for a class.  I would not have normally picked something like this to read for pleasure.  I found that this text is very attention grabbing, and it is extremly informational.  I would recommend this text to others'),\n",
       " (124, 'If you Manage a large firm, be responsible and read it'),\n",
       " (206,\n",
       "  'I agree with Oceandweller who said he/she wished this book were still in print so he/she could send a copy to all his/her friends.  This book is terrific right from page one until the very end.  I bought this book used, I forget how much I paid.  Whatever I paid, it was worth it.  It\\'s not often in one\\'s lifetime that one comes across a book like this, both educational and entertaining.  Dale Carnegie pulls you right into the story from the very first page and you just can\\'t extricate yourself from then on until the book ends.  Not only was the story so interesting, but Lincoln comes across as the wisest of men.  \"With malice towards none and charity for all...\" these, his words, keep echoing in my mind.  Though he fought the civil war, a terribly bloody war, he did this to save this great nation.  His words and his sentiment must be what is meant by \\'love your enemies\\'(St Luke 6:27). Lincoln had no church; he said, \"When I do good, I feel good, when I do bad I feel bad, and that\\'s my religion\". But through his life he exemplies the best which man can aspire to.  After reading this book, for me Lincoln stands head and shoulders above all the greatest men of whom I know something (there may be others like him but I haven\\'t met or read about them).  This book should be required reading in all the high schools - in my humble opinion.'),\n",
       " (237,\n",
       "  'Dickens explores various sides of human nature in Great Expectations, as he tells the story of Pip, a common, lower-class, laboring boy who shows his desire to become a civilized gentleman. Along the storyline, Dickens inserts several points that man has several sides. The book is excellent in depicting how easily betrayal can occur, how quickly man can turn on his closest friend. A very well written story, Great Expectations continuously keeps the reader interested with its intriguing occurences.'),\n",
       " (216,\n",
       "  'I\\'m going to say something that might sound odd: this is not a leadership book.  It deals pretty well with the everyday tasks and details of Churchill\\'s style, but strangely not his \"executive success in the face of adversity.\" And Hayward\\'s assertion that Churchill\\'s style is  like that of an executive seems a little red-faced: Hayward spends a lot of  time defending against Churchill\\'s critics that Churchill was disorganized  and a bad judge of character.  In all likelihood, he is forcing Churchill  into a category that he does not belong: indeed, Churchill may have been  disorganized, but he was a darn good prime minister. My opinion is that  Churchill deserves more than this. In place of this book, I would recommend  Lincoln On Leadership'),\n",
       " (118,\n",
       "  '\"Freedom From fear\" by David Kennedy is a highly respectable history book for the Great Depression and WWII era. Professor Kennedy filled this book with lots of quality research, as well as his own opinions on the Great Depression. In the beginning of this book, Kennedy begins with Herbert Hoover and how he did things \"wrong\", but then he turned to FDR who kept up with the changing economy at that time. Kennedy portrays FDR as powerful and willing for change. He was an inspiring character for those during the Depression. Further into the book, Kennedy devotes his research to the New Deal and the effects it had on the Depression. Kennedy did go into detail about the effects, but he should have researched more about the causes of the Depression. Even though this book seems to drag on at parts because of all the information thrown at the reader, it was Kennedy\\'s writing style that made the book hard to put down. It was very enjoyable to read and we recommend it to any history lovers who want to learn more about the Depression'),\n",
       " (85,\n",
       "  'This is one of contemporary fictions first books. It was written in the early eighties before Bridget Jones became a household name. It is a thoughtful novel about the breakup of a marriage. It is a quick read, but its not an earth-shattering premise. I recommend it for the beach or the bathtub'),\n",
       " (284,\n",
       "  'If you like strange stories, you will love \"Running with Scissors\" because it is just plain weird.  After reading this book, you will have a feeling that you just returned from the Twilight Zone.Marty WurtzAuthor of Deceptions and Betrayal'),\n",
       " (450,\n",
       "  'A very well written book. Easy to read, entertaining and full of useful information, this book makes otherwise complex theories easy to follow. The use of anecdotes and real life examples allow for easier understanding of the ideas presented. This is a useful addition to the library of any horseracing fan. The serious student of horse racing handicapping should easily recover several times the price of the book from using the information presented - that is a safe bet')]"
      ]
     },
     "execution_count": 34,
     "metadata": {},
     "output_type": "execute_result"
    }
   ],
   "source": [
    "# Here k should be the number of samples that we want to extract\n",
    "# you should select a large enough number to contain both positive\n",
    "# and negative reviews but not too many to make creating your labeled \n",
    "# training set too large.\n",
    "#\n",
    "# We're also displaying the index within the training dataset, which could\n",
    "# potentially be useful if you are not into cut-and-paste in constructing \n",
    "# your labeled data.\n",
    "\n",
    "from random import sample\n",
    "sample(list(enumerate(training_reviews)), k=SOMENUMBERGOESHERE)"
   ]
  },
  {
   "cell_type": "markdown",
   "metadata": {},
   "source": [
    "## Create Training Data"
   ]
  },
  {
   "cell_type": "code",
   "execution_count": 25,
   "metadata": {},
   "outputs": [],
   "source": [
    "# Now we need to create a list of tuples in which the first item\n",
    "# is the text of the review and the second a label of either \"pos\"\n",
    "# for a positive review or \"neg\" for a negative review. Both items\n",
    "# in the tuple are strings and need to be quoted. The tuples need\n",
    "# to be separated with commas both within and without the tuple. \n",
    "training_sentiments = [\n",
    "]"
   ]
  },
  {
   "cell_type": "markdown",
   "metadata": {},
   "source": [
    "## Classify, Show Features, and Evaluate"
   ]
  },
  {
   "cell_type": "code",
   "execution_count": 26,
   "metadata": {},
   "outputs": [],
   "source": [
    "# Load TextBlob's wrapper for the NB classifier\n",
    "# and train on your training sentiment data\n",
    "from textblob.classifiers import NaiveBayesClassifier\n",
    "clf = NaiveBayesClassifier(training_sentiments)"
   ]
  },
  {
   "cell_type": "code",
   "execution_count": null,
   "metadata": {},
   "outputs": [],
   "source": [
    "# Now review the document with help(NaiveBayesClassifier) to learn\n",
    "# how to display the most informative features for your trained\n",
    "# classifier.\n",
    "#\n",
    "# Do you want to go back and change anything from above? "
   ]
  },
  {
   "cell_type": "code",
   "execution_count": null,
   "metadata": {},
   "outputs": [],
   "source": [
    "# Now run through some selection of your testing data (testing_reviews) and \n",
    "# classify using prob_classify and display the label and optionally the \n",
    "# assigned probability that it is that label."
   ]
  }
 ],
 "metadata": {
  "kernelspec": {
   "display_name": "Python 3",
   "language": "python",
   "name": "python3"
  },
  "language_info": {
   "codemirror_mode": {
    "name": "ipython",
    "version": 3
   },
   "file_extension": ".py",
   "mimetype": "text/x-python",
   "name": "python",
   "nbconvert_exporter": "python",
   "pygments_lexer": "ipython3",
   "version": "3.9.1"
  }
 },
 "nbformat": 4,
 "nbformat_minor": 4
}
