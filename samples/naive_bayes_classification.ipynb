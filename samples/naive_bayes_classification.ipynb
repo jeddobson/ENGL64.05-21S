{
 "cells": [
  {
   "cell_type": "code",
   "execution_count": null,
   "metadata": {},
   "outputs": [],
   "source": [
    "import pandas as pd\n",
    "import numpy as np\n",
    "import sys\n",
    "sys.path.append('shared/engl64.05/lib')\n",
    "from tsvdro import tsvdro"
   ]
  },
  {
   "cell_type": "code",
   "execution_count": null,
   "metadata": {},
   "outputs": [],
   "source": [
    "# load Underwood metadata\n",
    "metadata = pd.read_csv(\"shared/engl64.05/data/Underwood_ch1/allgenremeta.csv\")"
   ]
  },
  {
   "cell_type": "code",
   "execution_count": null,
   "metadata": {},
   "outputs": [],
   "source": [
    "# take a sample of 150 texts\n",
    "sample = metadata.sample(150,random_state=1)"
   ]
  },
  {
   "cell_type": "code",
   "execution_count": null,
   "metadata": {},
   "outputs": [],
   "source": [
    "# what did we find in our sample (genre distribution)?\n",
    "sample['genretags'].value_counts()"
   ]
  },
  {
   "cell_type": "code",
   "execution_count": null,
   "metadata": {},
   "outputs": [],
   "source": [
    "# create label list\n",
    "labels = [g for g in sample['genretags']]"
   ]
  },
  {
   "cell_type": "code",
   "execution_count": null,
   "metadata": {},
   "outputs": [],
   "source": [
    "# create a vectorizer instance\n",
    "from sklearn.feature_extraction import DictVectorizer\n",
    "vectorizer = DictVectorizer()"
   ]
  },
  {
   "cell_type": "code",
   "execution_count": null,
   "metadata": {},
   "outputs": [],
   "source": [
    "# import NLTK's set of stopwords\n",
    "from nltk.corpus import stopwords\n",
    "stop_words = stopwords.words('english')\n",
    "\n",
    "# add some additional words and marks\n",
    "puntuation = [\",\",\";\",\".\",\":\",'\"',\"'\",\"—\",\"(\",\")\"]\n",
    "stop_words = stop_words + puntuation"
   ]
  },
  {
   "cell_type": "code",
   "execution_count": null,
   "metadata": {},
   "outputs": [],
   "source": [
    "doc_data = list()\n",
    "for filename in [f + '.dro' for f in sample['docid'].tolist()]:\n",
    "    tmp_data = tsvdro.load(\"shared/engl64.05/data/Underwood_ch1/\" + filename)\n",
    "    for w in list(tmp_data['data'].keys()):\n",
    "        if w in stop_words:\n",
    "            del tmp_data['data'][w]\n",
    "            \n",
    "        # this will filter out all features with digits and \n",
    "        # some other miscelleanous punctuation\n",
    "        if w.startswith('|'):\n",
    "            del tmp_data['data'][w]\n",
    "    doc_data.append(tmp_data['data'])"
   ]
  },
  {
   "cell_type": "code",
   "execution_count": null,
   "metadata": {},
   "outputs": [],
   "source": [
    "# vectorize from DRO documents\n",
    "dtm = vectorizer.fit_transform(doc_data)"
   ]
  },
  {
   "cell_type": "code",
   "execution_count": null,
   "metadata": {},
   "outputs": [],
   "source": [
    "# this is the right NB classifier with the ability to extract feature counts\n",
    "from sklearn.naive_bayes import MultinomialNB\n",
    "clf = MultinomialNB()\n",
    "clf.fit(dtm.toarray(),labels)\n",
    "feature_names = vectorizer.get_feature_names()"
   ]
  },
  {
   "cell_type": "code",
   "execution_count": null,
   "metadata": {},
   "outputs": [],
   "source": [
    "n_features = 30\n",
    "if len(clf.classes_) > 1:\n",
    "    for i, class_label in enumerate(clf.classes_):\n",
    "        print(\"Class label:\",class_label)\n",
    "        values = clf.feature_log_prob_[i].ravel()[np.argsort(clf.feature_log_prob_[i].ravel())]\n",
    "        terms = np.argsort(clf.feature_log_prob_[i])\n",
    "        \n",
    "        tv=list()\n",
    "        for i, t in enumerate(terms):\n",
    "            tv.append([feature_names[t],values[i]])\n",
    "        tv = sorted(tv, key = lambda x: x[1], reverse=True)[:n_features]\n",
    "        for t, v in tv:\n",
    "            print(\"{0} ({1}), \".format(t,-np.round(v,3)),end=\"\")\n",
    "        print(\"\\n\")"
   ]
  }
 ],
 "metadata": {
  "kernelspec": {
   "display_name": "Python 3",
   "language": "python",
   "name": "python3"
  },
  "language_info": {
   "codemirror_mode": {
    "name": "ipython",
    "version": 3
   },
   "file_extension": ".py",
   "mimetype": "text/x-python",
   "name": "python",
   "nbconvert_exporter": "python",
   "pygments_lexer": "ipython3",
   "version": "3.9.1"
  }
 },
 "nbformat": 4,
 "nbformat_minor": 4
}
