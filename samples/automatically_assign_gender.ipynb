{
 "cells": [
  {
   "cell_type": "code",
   "execution_count": null,
   "metadata": {},
   "outputs": [],
   "source": [
    "# this will install the \"gender-guesser\" package\n",
    "# https://pypi.org/project/gender-guesser/\n",
    "#\n",
    "# It has some pretty major limitations and the act of assigning gender\n",
    "# based on names might be seen as problematic.\n",
    "\n",
    "!pip install gender-guesser --user"
   ]
  },
  {
   "cell_type": "code",
   "execution_count": null,
   "metadata": {},
   "outputs": [],
   "source": [
    "# this intializes the Detector\n",
    "import gender_guesser.detector as gender\n",
    "gd = gender.Detector()"
   ]
  },
  {
   "cell_type": "code",
   "execution_count": null,
   "metadata": {},
   "outputs": [],
   "source": [
    "names = ['Lynn', 'Margot', 'Grace', 'Theophilus', 'Edward', 'Zaharia', 'Flora', 'Hubback', 'Jaclen', 'Edgar', 'Ifayemi', 'Amhurst', 'Rolland', 'Thurlow', 'Daphne', 'Susanna', 'Osbert', 'Willoughby', 'Edwin', 'Paula', 'Wayne', 'Ada', 'Christopher', 'Helen', 'Earl', 'Louise', 'Hanns', 'Rammanohar', 'Ambrose', 'Freeman', 'Juvenal', 'Yvor', 'Jerningham', 'Lalla', 'North', 'Aulnoy', 'Gouverneur', 'Funmilayo', 'Brian', 'Eleanor', 'Dorothy', 'Edgar', 'Adrienne', 'Marah', 'Basil', 'Riccardo', 'Thomas', 'Moncure', 'William', 'Hilaire', 'Muriel', 'Alejandro', 'Anita', 'Hew', 'Charles', 'Bankole', 'Merrit', 'Zachariah', 'Isabel', 'Maxwell', 'Cherrytree', 'Darwell', 'Pearl', 'Rex', 'Makũmi', 'Jocelyn', 'Antoine', 'Kathy', 'Carole.', 'Wilhelm', 'Patrick', 'Froom', 'Xintian', 'Carla', 'Horace', 'Liam', 'Pardoe', 'Wendell', 'Patricia', 'Dylan', 'Edith', 'Jeremy']"
   ]
  },
  {
   "cell_type": "code",
   "execution_count": null,
   "metadata": {},
   "outputs": [],
   "source": [
    "for n in names:\n",
    "    print(n,gd.get_gender(n))"
   ]
  }
 ],
 "metadata": {
  "kernelspec": {
   "display_name": "Python 3",
   "language": "python",
   "name": "python3"
  },
  "language_info": {
   "codemirror_mode": {
    "name": "ipython",
    "version": 3
   },
   "file_extension": ".py",
   "mimetype": "text/x-python",
   "name": "python",
   "nbconvert_exporter": "python",
   "pygments_lexer": "ipython3",
   "version": "3.9.1"
  }
 },
 "nbformat": 4,
 "nbformat_minor": 5
}
